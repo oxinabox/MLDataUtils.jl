{
 "cells": [
  {
   "cell_type": "code",
   "execution_count": 1,
   "metadata": {
    "collapsed": false
   },
   "outputs": [],
   "source": [
    "export ReservoirShuffler\n",
    "\n",
    "\"\"\"Shuffling an infinite list in finite memory.\n",
    "Not perfectly random -- items are likely to remain close to each other, particularly at the start.\n",
    "The larger the reservoir_size, the better the shuffle is\n",
    "\"\"\"\n",
    "immutable ReservoirShuffler{B}\n",
    "    source::B\n",
    "    reservoir_size::Int\n",
    "end\n",
    "\n",
    "\n",
    "function Base.start(it::ReservoirShuffler)\n",
    "    reservoir, backer = Base.head_and_tail(it.source, it.reservoir_size)\n",
    "    (reservoir, backer, Base.start(backer))\n",
    "end\n",
    "\n",
    "function Base.done(it::ReservoirShuffler, state)\n",
    "    reservoir, backer, backer_state = state\n",
    "    Base.done(backer, backer_state) && length(reservoir)==0\n",
    "end\n",
    "\n",
    "function Base.next(it::ReservoirShuffler, state)\n",
    "    reservoir, backer, backer_state = state\n",
    "    \n",
    "    ret_index = rand(1:length(reservoir))\n",
    "    ret = reservoir[ret_index]\n",
    "    if Base.done(backer, backer_state) \n",
    "        splice!(reservoir, ret_index)\n",
    "        # Nothing to replace it with\n",
    "    else\n",
    "        replacement, backer_state = Base.next(backer, backer_state)\n",
    "        reservoir[ret_index] = replacement\n",
    "    end\n",
    "    ret, (reservoir, backer, backer_state)\n",
    "end\n",
    "\n",
    "Base.iteratorsize{B}(::Type{ReservoirShuffler{B}}) = Base.iteratorsize(B)\n",
    "Base.eltype{B}(::Type{ReservoirShuffler{B}}) = Base.eltype(B)\n",
    "Base.length(it::ReservoirShuffler) = length(it.source)\n",
    "Base.size(it::ReservoirShuffler) = size(it.source)\n",
    "\n",
    "    "
   ]
  },
  {
   "cell_type": "code",
   "execution_count": 22,
   "metadata": {
    "collapsed": false
   },
   "outputs": [
    {
     "name": "stdout",
     "output_type": "stream",
     "text": [
      "Test Summary:      | Pass  Total\n",
      "  Reservoir  Shuffle |   12     12\n"
     ]
    }
   ],
   "source": [
    "using Base.Test\n",
    "using Iterators\n",
    "\n",
    "@testset \"Reservoir  Shuffle\" begin\n",
    "\tsrand(15)\n",
    "\t\n",
    "    # Make sure we are not losing anything\n",
    "\t@test ReservoirShuffler(1:10, 2) |> Set == 1:10 |> Set\n",
    "\t@test ReservoirShuffler(1:100, 2) |> Set == 1:100 |> Set\n",
    "    @test ReservoirShuffler(1:1_000_000, 1024) |> Set == Set(1:1_000_000)\n",
    "\t@test ReservoirShuffler(1:1_000_000, 64) |> Set == Set(1:1_000_000)\n",
    "    @test ReservoirShuffler(10:10:100, 64) |> Set == 10:10:100 |> Set\n",
    "\t\n",
    "\n",
    "\t@test ReservoirShuffler(1:1000, 1) |> collect == collect(1:1000) # with reservoir of 1 it is exactly the same\n",
    "\t@test ReservoirShuffler(1:1000, 10) |>collect != collect(1:1000) #Not same order\n",
    "\t@test ReservoirShuffler(1:1000, 1024) |> collect != collect(1:1000) #not same order\n",
    "\n",
    "    #Try something infinite\n",
    "    xs = take(ReservoirShuffler(iterate(x->x-0.5x, big\"1.0\"), 100), 1000) |> collect\n",
    "    @test all(0 .<= xs)\n",
    "    @test all(xs .<= 1)\n",
    "    @test !issorted(xs)\n",
    "    @test !issorted(reverse(xs))\n",
    "    \n",
    "end;"
   ]
  },
  {
   "cell_type": "code",
   "execution_count": 19,
   "metadata": {
    "collapsed": false
   },
   "outputs": [
    {
     "data": {
      "text/plain": [
       "false"
      ]
     },
     "execution_count": 19,
     "metadata": {},
     "output_type": "execute_result"
    }
   ],
   "source": [
    " 3 .<= 1"
   ]
  },
  {
   "cell_type": "code",
   "execution_count": 24,
   "metadata": {
    "collapsed": false
   },
   "outputs": [
    {
     "name": "stderr",
     "output_type": "stream",
     "text": [
      "WARNING: Method definition natural_numbers() in module Main at In[7]:3 overwritten at In[24]:3.\n"
     ]
    },
    {
     "data": {
      "text/plain": [
       "natural_numbers (generic function with 1 method)"
      ]
     },
     "execution_count": 24,
     "metadata": {},
     "output_type": "execute_result"
    }
   ],
   "source": [
    "using Iterators\n",
    "\n",
    "natural_numbers() = iterate(x->x+1 , 0)"
   ]
  },
  {
   "cell_type": "code",
   "execution_count": 61,
   "metadata": {
    "collapsed": false
   },
   "outputs": [
    {
     "data": {
      "text/plain": [
       "Plots.GRBackend()"
      ]
     },
     "execution_count": 61,
     "metadata": {},
     "output_type": "execute_result"
    }
   ],
   "source": [
    "using Plots\n",
    "gr()"
   ]
  },
  {
   "cell_type": "code",
   "execution_count": 87,
   "metadata": {
    "collapsed": false
   },
   "outputs": [
    {
     "name": "stderr",
     "output_type": "stream",
     "text": [
      "WARNING: Method definition plot_shift(#T<:Any, Any, Any) in module Main at In[85]:2 overwritten at In[87]:2.\n"
     ]
    },
    {
     "data": {
      "text/plain": [
       "plot_shift (generic function with 1 method)"
      ]
     },
     "execution_count": 87,
     "metadata": {},
     "output_type": "execute_result"
    }
   ],
   "source": [
    "function plot_shift{T}(len::T, res_size, rounds)\n",
    "    point_shifts = Matrix{T}(len, rounds)\n",
    "    for round in 1:rounds\n",
    "        for (ii, vv) in enumerate(ReservoirShuffler(1:len, res_size))\n",
    "            point_shifts[ii, round] =  abs(ii - vv)\n",
    "        end\n",
    "    end\n",
    "    \n",
    "    tt = repeat(1:len, outer=rounds)\n",
    "    scatter(tt, vec(point_shifts))\n",
    "    plot!(1:len, vec(mean(point_shifts,2)))\n",
    "end\n",
    "\n"
   ]
  },
  {
   "cell_type": "code",
   "execution_count": null,
   "metadata": {
    "collapsed": false
   },
   "outputs": [],
   "source": [
    "ani = @animate for rr in 50:50:1000\n",
    "    plot_shift(1000, rr, 30)\n",
    "    title!(string(rr))\n",
    "end\n",
    "gif(ani, fps=5)"
   ]
  },
  {
   "cell_type": "code",
   "execution_count": null,
   "metadata": {
    "collapsed": true
   },
   "outputs": [],
   "source": []
  },
  {
   "cell_type": "code",
   "execution_count": null,
   "metadata": {
    "collapsed": true
   },
   "outputs": [],
   "source": []
  }
 ],
 "metadata": {
  "kernelspec": {
   "display_name": "Julia 0.5.1-pre",
   "language": "julia",
   "name": "julia-0.5"
  },
  "language_info": {
   "file_extension": ".jl",
   "mimetype": "application/julia",
   "name": "julia",
   "version": "0.5.1"
  }
 },
 "nbformat": 4,
 "nbformat_minor": 2
}
